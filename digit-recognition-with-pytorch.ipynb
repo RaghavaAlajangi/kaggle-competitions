{
 "cells": [
  {
   "cell_type": "code",
   "execution_count": 1,
   "id": "forty-discussion",
   "metadata": {
    "_cell_guid": "b1076dfc-b9ad-4769-8c92-a6c4dae69d19",
    "_uuid": "8f2839f25d086af736a60e9eeb907d3b93b6e0e5",
    "execution": {
     "iopub.execute_input": "2021-05-02T19:00:16.236941Z",
     "iopub.status.busy": "2021-05-02T19:00:16.234908Z",
     "iopub.status.idle": "2021-05-02T19:00:16.240527Z",
     "shell.execute_reply": "2021-05-02T19:00:16.240966Z"
    },
    "papermill": {
     "duration": 0.039561,
     "end_time": "2021-05-02T19:00:16.241205",
     "exception": false,
     "start_time": "2021-05-02T19:00:16.201644",
     "status": "completed"
    },
    "tags": []
   },
   "outputs": [
    {
     "name": "stdout",
     "output_type": "stream",
     "text": [
      "/kaggle/input/digit-recognizer/sample_submission.csv\n",
      "/kaggle/input/digit-recognizer/train.csv\n",
      "/kaggle/input/digit-recognizer/test.csv\n"
     ]
    }
   ],
   "source": [
    "# This Python 3 environment comes with many helpful analytics libraries installed\n",
    "# It is defined by the kaggle/python Docker image: https://github.com/kaggle/docker-python\n",
    "# For example, here's several helpful packages to load\n",
    "\n",
    "import numpy as np # linear algebra\n",
    "import pandas as pd # data processing, CSV file I/O (e.g. pd.read_csv)\n",
    "\n",
    "# Input data files are available in the read-only \"../input/\" directory\n",
    "# For example, running this (by clicking run or pressing Shift+Enter) will list all files under the input directory\n",
    "\n",
    "import os\n",
    "for dirname, _, filenames in os.walk('/kaggle/input'):\n",
    "    for filename in filenames:\n",
    "        print(os.path.join(dirname, filename))\n",
    "\n",
    "# You can write up to 20GB to the current directory (/kaggle/working/) that gets preserved as output when you create a version using \"Save & Run All\" \n",
    "# You can also write temporary files to /kaggle/temp/, but they won't be saved outside of the current session"
   ]
  },
  {
   "cell_type": "markdown",
   "id": "charged-parliament",
   "metadata": {
    "papermill": {
     "duration": 0.019797,
     "end_time": "2021-05-02T19:00:16.281657",
     "exception": false,
     "start_time": "2021-05-02T19:00:16.261860",
     "status": "completed"
    },
    "tags": []
   },
   "source": [
    "### Required Libraries"
   ]
  },
  {
   "cell_type": "code",
   "execution_count": 2,
   "id": "informational-miller",
   "metadata": {
    "execution": {
     "iopub.execute_input": "2021-05-02T19:00:16.327742Z",
     "iopub.status.busy": "2021-05-02T19:00:16.327091Z",
     "iopub.status.idle": "2021-05-02T19:00:18.640752Z",
     "shell.execute_reply": "2021-05-02T19:00:18.641910Z"
    },
    "papermill": {
     "duration": 2.340305,
     "end_time": "2021-05-02T19:00:18.642122",
     "exception": false,
     "start_time": "2021-05-02T19:00:16.301817",
     "status": "completed"
    },
    "tags": []
   },
   "outputs": [],
   "source": [
    "import copy\n",
    "import time\n",
    "import torch\n",
    "from PIL import Image\n",
    "import torch.nn as nn\n",
    "import torch.optim as optim\n",
    "from torch.optim import lr_scheduler\n",
    "from torch.utils.data import Dataset\n",
    "from torch.utils.data import DataLoader\n",
    "from torchvision import transforms, models\n",
    "from sklearn.model_selection import train_test_split\n",
    "from sklearn.metrics import confusion_matrix, ConfusionMatrixDisplay\n",
    "from sklearn.metrics import accuracy_score, precision_recall_fscore_support\n",
    "import matplotlib.pyplot as plt"
   ]
  },
  {
   "cell_type": "markdown",
   "id": "supported-voluntary",
   "metadata": {
    "papermill": {
     "duration": 0.034568,
     "end_time": "2021-05-02T19:00:18.712899",
     "exception": false,
     "start_time": "2021-05-02T19:00:18.678331",
     "status": "completed"
    },
    "tags": []
   },
   "source": [
    "### Parameters"
   ]
  },
  {
   "cell_type": "code",
   "execution_count": 3,
   "id": "relevant-parade",
   "metadata": {
    "execution": {
     "iopub.execute_input": "2021-05-02T19:00:18.791334Z",
     "iopub.status.busy": "2021-05-02T19:00:18.790321Z",
     "iopub.status.idle": "2021-05-02T19:00:18.792715Z",
     "shell.execute_reply": "2021-05-02T19:00:18.792048Z"
    },
    "papermill": {
     "duration": 0.044936,
     "end_time": "2021-05-02T19:00:18.792941",
     "exception": false,
     "start_time": "2021-05-02T19:00:18.748005",
     "status": "completed"
    },
    "tags": []
   },
   "outputs": [],
   "source": [
    "batch_size = 16\n",
    "input_img_size = 28\n",
    "validation_size = 0.1\n",
    "Num_out_features = 10\n",
    "max_epochs = 20\n",
    "learning_rate = 0.005"
   ]
  },
  {
   "cell_type": "markdown",
   "id": "killing-reward",
   "metadata": {
    "papermill": {
     "duration": 0.033081,
     "end_time": "2021-05-02T19:00:18.860599",
     "exception": false,
     "start_time": "2021-05-02T19:00:18.827518",
     "status": "completed"
    },
    "tags": []
   },
   "source": [
    "### Data preparation"
   ]
  },
  {
   "cell_type": "code",
   "execution_count": 4,
   "id": "alert-insurance",
   "metadata": {
    "execution": {
     "iopub.execute_input": "2021-05-02T19:00:19.068400Z",
     "iopub.status.busy": "2021-05-02T19:00:19.067478Z",
     "iopub.status.idle": "2021-05-02T19:00:19.069923Z",
     "shell.execute_reply": "2021-05-02T19:00:19.069234Z"
    },
    "papermill": {
     "duration": 0.047259,
     "end_time": "2021-05-02T19:00:19.070105",
     "exception": false,
     "start_time": "2021-05-02T19:00:19.022846",
     "status": "completed"
    },
    "tags": []
   },
   "outputs": [],
   "source": [
    "train_csv = '/kaggle/input/digit-recognizer/train.csv'\n",
    "test_csv = '/kaggle/input/digit-recognizer/test.csv'"
   ]
  },
  {
   "cell_type": "code",
   "execution_count": 5,
   "id": "designed-williams",
   "metadata": {
    "execution": {
     "iopub.execute_input": "2021-05-02T19:00:19.143139Z",
     "iopub.status.busy": "2021-05-02T19:00:19.142473Z",
     "iopub.status.idle": "2021-05-02T19:00:25.574960Z",
     "shell.execute_reply": "2021-05-02T19:00:25.575422Z"
    },
    "papermill": {
     "duration": 6.472603,
     "end_time": "2021-05-02T19:00:25.575596",
     "exception": false,
     "start_time": "2021-05-02T19:00:19.102993",
     "status": "completed"
    },
    "tags": []
   },
   "outputs": [
    {
     "name": "stdout",
     "output_type": "stream",
     "text": [
      "shape of X_train: (37800, 784)\n",
      "shape of y_train: (37800,)\n",
      "shape of X_val: (4200, 784)\n",
      "shape of y_val: (4200,)\n",
      "shape of X_test: (28000, 784)\n"
     ]
    }
   ],
   "source": [
    "train_val_df = pd.read_csv(train_csv)\n",
    "test_df = pd.read_csv(test_csv)\n",
    "\n",
    "train_val_label_df = train_val_df['label']\n",
    "train_val_data_df = train_val_df.drop(['label'], axis = 1)\n",
    "\n",
    "train_val_data = train_val_data_df.to_numpy()\n",
    "train_val_label = train_val_label_df.to_numpy()\n",
    "X_test = test_df.to_numpy()\n",
    "\n",
    "X_train, X_val, y_train, y_val = train_test_split(train_val_data, train_val_label, \n",
    "                                                test_size=validation_size, random_state=42)\n",
    "\n",
    "print('shape of X_train:', X_train.shape)\n",
    "print('shape of y_train:', y_train.shape)\n",
    "print('shape of X_val:', X_val.shape)\n",
    "print('shape of y_val:', y_val.shape)\n",
    "print('shape of X_test:', X_test.shape)"
   ]
  },
  {
   "cell_type": "markdown",
   "id": "unlimited-width",
   "metadata": {
    "papermill": {
     "duration": 0.020469,
     "end_time": "2021-05-02T19:00:25.616324",
     "exception": false,
     "start_time": "2021-05-02T19:00:25.595855",
     "status": "completed"
    },
    "tags": []
   },
   "source": [
    "### Visualize data"
   ]
  },
  {
   "cell_type": "code",
   "execution_count": 6,
   "id": "forbidden-excerpt",
   "metadata": {
    "execution": {
     "iopub.execute_input": "2021-05-02T19:00:25.676250Z",
     "iopub.status.busy": "2021-05-02T19:00:25.675290Z",
     "iopub.status.idle": "2021-05-02T19:00:26.298112Z",
     "shell.execute_reply": "2021-05-02T19:00:26.297678Z"
    },
    "papermill": {
     "duration": 0.661956,
     "end_time": "2021-05-02T19:00:26.298227",
     "exception": false,
     "start_time": "2021-05-02T19:00:25.636271",
     "status": "completed"
    },
    "tags": []
   },
   "outputs": [
    {
     "data": {
      "image/png": "[encoded data removed]",
      "text/plain": [
       "<Figure size 720x720 with 16 Axes>"
      ]
     },
     "metadata": {
      "needs_background": "light"
     },
     "output_type": "display_data"
    }
   ],
   "source": [
    "figure = plt.figure(figsize=(10,10))\n",
    "cols, rows = 4, 4\n",
    "for i in range(1, cols * rows + 1):\n",
    "    img = X_train[i]\n",
    "    lbl = y_train[i]\n",
    "    figure.add_subplot(rows, cols, i)\n",
    "    plt.title(str(lbl))\n",
    "    plt.axis(\"off\")\n",
    "    plt.imshow(img.reshape(28,28), 'gray')\n",
    "plt.show()"
   ]
  },
  {
   "cell_type": "markdown",
   "id": "controlled-error",
   "metadata": {
    "papermill": {
     "duration": 0.021199,
     "end_time": "2021-05-02T19:00:26.341112",
     "exception": false,
     "start_time": "2021-05-02T19:00:26.319913",
     "status": "completed"
    },
    "tags": []
   },
   "source": [
    "### Build dataloarders"
   ]
  },
  {
   "cell_type": "code",
   "execution_count": 7,
   "id": "fancy-berkeley",
   "metadata": {
    "execution": {
     "iopub.execute_input": "2021-05-02T19:00:26.400994Z",
     "iopub.status.busy": "2021-05-02T19:00:26.400231Z",
     "iopub.status.idle": "2021-05-02T19:00:26.402554Z",
     "shell.execute_reply": "2021-05-02T19:00:26.402958Z"
    },
    "papermill": {
     "duration": 0.036917,
     "end_time": "2021-05-02T19:00:26.403089",
     "exception": false,
     "start_time": "2021-05-02T19:00:26.366172",
     "status": "completed"
    },
    "tags": []
   },
   "outputs": [],
   "source": [
    "class DigitDataset(Dataset):\n",
    "    def __init__(self, data_array, label_array):\n",
    "        self.data_array = data_array\n",
    "        self.label_array = label_array\n",
    "    def __len__(self):\n",
    "        return len(self.data_array)\n",
    "\n",
    "    def __getitem__(self, idx):\n",
    "        image = self.data_array[idx]\n",
    "        image = image.reshape(28,28)\n",
    "        image = image/255.\n",
    "        #PIL_image = Image.fromarray(image.astype('uint8'))\n",
    "        label = self.label_array[idx]\n",
    "        label = torch.tensor(label)\n",
    "        transform = transforms.Compose([\n",
    "#                                         transforms.Resize(32),\n",
    "#                                         transforms.RandomCrop(28),\n",
    "#                                         transforms.RandomHorizontalFlip(),\n",
    "#                                         transforms.RandomVerticalFlip(),\n",
    "                                        transforms.ToTensor()])\n",
    "        image = transform(image)\n",
    "        return (image, label)"
   ]
  },
  {
   "cell_type": "code",
   "execution_count": 8,
   "id": "polyphonic-honor",
   "metadata": {
    "execution": {
     "iopub.execute_input": "2021-05-02T19:00:26.451918Z",
     "iopub.status.busy": "2021-05-02T19:00:26.451130Z",
     "iopub.status.idle": "2021-05-02T19:00:26.453348Z",
     "shell.execute_reply": "2021-05-02T19:00:26.453843Z"
    },
    "papermill": {
     "duration": 0.029656,
     "end_time": "2021-05-02T19:00:26.453976",
     "exception": false,
     "start_time": "2021-05-02T19:00:26.424320",
     "status": "completed"
    },
    "tags": []
   },
   "outputs": [],
   "source": [
    "Xy_train_obj = DigitDataset(X_train, y_train)\n",
    "Xy_val_obj = DigitDataset(X_val, y_val)\n",
    "\n",
    "train_dataloader = DataLoader(Xy_train_obj, batch_size=batch_size, shuffle=True)\n",
    "val_dataloader = DataLoader(Xy_val_obj, batch_size=batch_size, shuffle=True)\n",
    "\n",
    "dataloaders, dataset_sizes = dict(), dict()\n",
    "\n",
    "dataloaders['train'] = train_dataloader\n",
    "dataloaders['val'] = val_dataloader\n",
    "dataset_sizes['train'] = len(train_dataloader.dataset)\n",
    "dataset_sizes['val'] = len(val_dataloader.dataset)\n"
   ]
  },
  {
   "cell_type": "code",
   "execution_count": 9,
   "id": "virgin-opportunity",
   "metadata": {
    "execution": {
     "iopub.execute_input": "2021-05-02T19:00:26.510999Z",
     "iopub.status.busy": "2021-05-02T19:00:26.510128Z",
     "iopub.status.idle": "2021-05-02T19:00:26.512730Z",
     "shell.execute_reply": "2021-05-02T19:00:26.512298Z"
    },
    "papermill": {
     "duration": 0.037621,
     "end_time": "2021-05-02T19:00:26.512846",
     "exception": false,
     "start_time": "2021-05-02T19:00:26.475225",
     "status": "completed"
    },
    "tags": []
   },
   "outputs": [],
   "source": [
    "def trainer(model, criterion, optimizer, scheduler, num_epochs=25):\n",
    "    since = time.time()\n",
    "    best_model_wts = copy.deepcopy(model.state_dict())\n",
    "    best_acc = 0.0\n",
    "    history = {'train': {'acc': [], 'loss':[]}, 'val':{'acc': [], 'loss':[]}}\n",
    "\n",
    "    for epoch in range(num_epochs):\n",
    "        print('Epoch {}/{}'.format(epoch, num_epochs - 1))\n",
    "        print('-' * 10)\n",
    "\n",
    "        # Each epoch has a training and validation phase\n",
    "        for phase in ['train', 'val']:\n",
    "            if phase == 'train':\n",
    "                model.train()  # Set model to training mode\n",
    "            else:\n",
    "                model.eval()   # Set model to evaluate mode\n",
    "\n",
    "            running_loss = 0.0\n",
    "            running_corrects = 0\n",
    "\n",
    "            # Iterate over data.\n",
    "            for inputs, labels in dataloaders[phase]:\n",
    "                inputs = inputs.to(device, dtype=torch.float)\n",
    "                labels = labels.to(device, dtype=torch.float)\n",
    "                \n",
    "                # zero the parameter gradients\n",
    "                optimizer.zero_grad()\n",
    "\n",
    "                # forward\n",
    "                # track history if only in train\n",
    "                with torch.set_grad_enabled(phase == 'train'):\n",
    "                    outputs = model(inputs)\n",
    "                    _, preds = torch.max(outputs, 1)\n",
    "                    loss = criterion(outputs, labels.long())\n",
    "\n",
    "                    # backward + optimize only if in training phase\n",
    "                    if phase == 'train':\n",
    "                        loss.backward()\n",
    "                        optimizer.step()\n",
    "\n",
    "                # statistics\n",
    "                running_loss += loss.item() * inputs.size(0)\n",
    "                running_corrects += torch.sum(preds == labels.data)\n",
    "                \n",
    "            if phase == 'train':\n",
    "                scheduler.step()\n",
    "\n",
    "            epoch_loss = running_loss / dataset_sizes[phase]\n",
    "            epoch_acc = running_corrects.double() / dataset_sizes[phase]\n",
    "            \n",
    "            history[phase]['loss'].append(epoch_loss)\n",
    "            history[phase]['acc'].append(epoch_acc)\n",
    "            print('{} Loss: {:.4f} Acc: {:.4f}'.format(\n",
    "                phase, epoch_loss, epoch_acc))\n",
    "\n",
    "            # deep copy the model\n",
    "            if phase == 'val' and epoch_acc > best_acc:\n",
    "                best_acc = epoch_acc\n",
    "                best_model_wts = copy.deepcopy(model.state_dict())\n",
    "\n",
    "        print()\n",
    "\n",
    "    time_elapsed = time.time() - since\n",
    "    print('Training complete in {:.0f}m {:.0f}s'.format(\n",
    "        time_elapsed // 60, time_elapsed % 60))\n",
    "    print('Best val Acc: {:4f}'.format(best_acc))\n",
    "\n",
    "    # load best model weights\n",
    "    model.load_state_dict(best_model_wts)\n",
    "    return model, history"
   ]
  },
  {
   "cell_type": "markdown",
   "id": "parliamentary-november",
   "metadata": {
    "papermill": {
     "duration": 0.021416,
     "end_time": "2021-05-02T19:00:26.555641",
     "exception": false,
     "start_time": "2021-05-02T19:00:26.534225",
     "status": "completed"
    },
    "tags": []
   },
   "source": [
    "### Finetuning resnet pretrained model"
   ]
  },
  {
   "cell_type": "code",
   "execution_count": 10,
   "id": "useful-friday",
   "metadata": {
    "execution": {
     "iopub.execute_input": "2021-05-02T19:00:26.604196Z",
     "iopub.status.busy": "2021-05-02T19:00:26.603600Z",
     "iopub.status.idle": "2021-05-02T19:00:28.564150Z",
     "shell.execute_reply": "2021-05-02T19:00:28.563695Z"
    },
    "papermill": {
     "duration": 1.987296,
     "end_time": "2021-05-02T19:00:28.564286",
     "exception": false,
     "start_time": "2021-05-02T19:00:26.576990",
     "status": "completed"
    },
    "tags": []
   },
   "outputs": [
    {
     "name": "stderr",
     "output_type": "stream",
     "text": [
      "Downloading: \"https://download.pytorch.org/models/resnet18-5c106cde.pth\" to /root/.cache/torch/hub/checkpoints/resnet18-5c106cde.pth\n"
     ]
    },
    {
     "data": {
      "application/vnd.jupyter.widget-view+json": {
       "model_id": "4e8ae01d86fe4e2e9808cc098ac45d07",
       "version_major": 2,
       "version_minor": 0
      },
      "text/plain": [
       "  0%|          | 0.00/44.7M [00:00<?, ?B/s]"
      ]
     },
     "metadata": {},
     "output_type": "display_data"
    }
   ],
   "source": [
    "model = models.resnet18(pretrained=True)\n",
    "model.conv1 = nn.Conv2d(1, 64, (7, 7), (2, 2), (3, 3), bias=False)\n",
    "num_ftrs = model.fc.in_features\n",
    "model.fc = nn.Linear(num_ftrs, Num_out_features)"
   ]
  },
  {
   "cell_type": "markdown",
   "id": "leading-transcription",
   "metadata": {
    "papermill": {
     "duration": 0.022032,
     "end_time": "2021-05-02T19:00:28.609087",
     "exception": false,
     "start_time": "2021-05-02T19:00:28.587055",
     "status": "completed"
    },
    "tags": []
   },
   "source": [
    "### Setup required optimizer and loss functions"
   ]
  },
  {
   "cell_type": "code",
   "execution_count": 11,
   "id": "simplified-sentence",
   "metadata": {
    "execution": {
     "iopub.execute_input": "2021-05-02T19:00:29.158858Z",
     "iopub.status.busy": "2021-05-02T19:00:29.158166Z",
     "iopub.status.idle": "2021-05-02T19:00:33.503376Z",
     "shell.execute_reply": "2021-05-02T19:00:33.502890Z"
    },
    "papermill": {
     "duration": 4.871917,
     "end_time": "2021-05-02T19:00:33.503528",
     "exception": false,
     "start_time": "2021-05-02T19:00:28.631611",
     "status": "completed"
    },
    "tags": []
   },
   "outputs": [],
   "source": [
    "device = torch.device(\"cuda:0\" if torch.cuda.is_available() else \"cpu\")\n",
    "model = model.to(device)\n",
    "criterion = nn.CrossEntropyLoss()\n",
    "# Observe that all parameters are being optimized\n",
    "optimizer_ft = optim.SGD(model.parameters(), lr=learning_rate, momentum=0.9)\n",
    "# Decay LR by a factor of 0.1 every 7 epochs\n",
    "exp_lr_scheduler = lr_scheduler.StepLR(optimizer_ft, step_size=7, gamma=0.1)"
   ]
  },
  {
   "cell_type": "markdown",
   "id": "rational-drilling",
   "metadata": {
    "papermill": {
     "duration": 0.022461,
     "end_time": "2021-05-02T19:00:33.549517",
     "exception": false,
     "start_time": "2021-05-02T19:00:33.527056",
     "status": "completed"
    },
    "tags": []
   },
   "source": [
    "### Train the model"
   ]
  },
  {
   "cell_type": "code",
   "execution_count": 12,
   "id": "responsible-realtor",
   "metadata": {
    "execution": {
     "iopub.execute_input": "2021-05-02T19:00:33.601352Z",
     "iopub.status.busy": "2021-05-02T19:00:33.600615Z",
     "iopub.status.idle": "2021-05-02T19:23:40.394377Z",
     "shell.execute_reply": "2021-05-02T19:23:40.394986Z"
    },
    "papermill": {
     "duration": 1386.822879,
     "end_time": "2021-05-02T19:23:40.395243",
     "exception": false,
     "start_time": "2021-05-02T19:00:33.572364",
     "status": "completed"
    },
    "tags": []
   },
   "outputs": [
    {
     "name": "stdout",
     "output_type": "stream",
     "text": [
      "Epoch 0/19\n",
      "----------\n",
      "train Loss: 0.3064 Acc: 0.9181\n",
      "val Loss: 0.0761 Acc: 0.9762\n",
      "\n",
      "Epoch 1/19\n",
      "----------\n",
      "train Loss: 0.0874 Acc: 0.9762\n",
      "val Loss: 0.0563 Acc: 0.9845\n",
      "\n",
      "Epoch 2/19\n",
      "----------\n",
      "train Loss: 0.0540 Acc: 0.9839\n",
      "val Loss: 0.0443 Acc: 0.9874\n",
      "\n",
      "Epoch 3/19\n",
      "----------\n",
      "train Loss: 0.0455 Acc: 0.9876\n",
      "val Loss: 0.0406 Acc: 0.9862\n",
      "\n",
      "Epoch 4/19\n",
      "----------\n",
      "train Loss: 0.0335 Acc: 0.9908\n",
      "val Loss: 0.0334 Acc: 0.9888\n",
      "\n",
      "Epoch 5/19\n",
      "----------\n",
      "train Loss: 0.0273 Acc: 0.9924\n",
      "val Loss: 0.0385 Acc: 0.9855\n",
      "\n",
      "Epoch 6/19\n",
      "----------\n",
      "train Loss: 0.0245 Acc: 0.9930\n",
      "val Loss: 0.0327 Acc: 0.9907\n",
      "\n",
      "Epoch 7/19\n",
      "----------\n",
      "train Loss: 0.0107 Acc: 0.9972\n",
      "val Loss: 0.0234 Acc: 0.9936\n",
      "\n",
      "Epoch 8/19\n",
      "----------\n",
      "train Loss: 0.0068 Acc: 0.9980\n",
      "val Loss: 0.0218 Acc: 0.9943\n",
      "\n",
      "Epoch 9/19\n",
      "----------\n",
      "train Loss: 0.0065 Acc: 0.9981\n",
      "val Loss: 0.0215 Acc: 0.9943\n",
      "\n",
      "Epoch 10/19\n",
      "----------\n",
      "train Loss: 0.0050 Acc: 0.9986\n",
      "val Loss: 0.0209 Acc: 0.9936\n",
      "\n",
      "Epoch 11/19\n",
      "----------\n",
      "train Loss: 0.0044 Acc: 0.9989\n",
      "val Loss: 0.0205 Acc: 0.9936\n",
      "\n",
      "Epoch 12/19\n",
      "----------\n",
      "train Loss: 0.0043 Acc: 0.9990\n",
      "val Loss: 0.0190 Acc: 0.9943\n",
      "\n",
      "Epoch 13/19\n",
      "----------\n",
      "train Loss: 0.0034 Acc: 0.9992\n",
      "val Loss: 0.0207 Acc: 0.9938\n",
      "\n",
      "Epoch 14/19\n",
      "----------\n",
      "train Loss: 0.0034 Acc: 0.9991\n",
      "val Loss: 0.0194 Acc: 0.9943\n",
      "\n",
      "Epoch 15/19\n",
      "----------\n",
      "train Loss: 0.0027 Acc: 0.9994\n",
      "val Loss: 0.0197 Acc: 0.9945\n",
      "\n",
      "Epoch 16/19\n",
      "----------\n",
      "train Loss: 0.0031 Acc: 0.9993\n",
      "val Loss: 0.0193 Acc: 0.9948\n",
      "\n",
      "Epoch 17/19\n",
      "----------\n",
      "train Loss: 0.0034 Acc: 0.9993\n",
      "val Loss: 0.0196 Acc: 0.9943\n",
      "\n",
      "Epoch 18/19\n",
      "----------\n",
      "train Loss: 0.0032 Acc: 0.9993\n",
      "val Loss: 0.0196 Acc: 0.9948\n",
      "\n",
      "Epoch 19/19\n",
      "----------\n",
      "train Loss: 0.0029 Acc: 0.9992\n",
      "val Loss: 0.0197 Acc: 0.9938\n",
      "\n",
      "Training complete in 23m 7s\n",
      "Best val Acc: 0.994762\n"
     ]
    }
   ],
   "source": [
    "trained_model, history = trainer(model, criterion, optimizer_ft, exp_lr_scheduler,num_epochs=max_epochs)"
   ]
  },
  {
   "cell_type": "markdown",
   "id": "funded-cooperative",
   "metadata": {
    "papermill": {
     "duration": 0.032544,
     "end_time": "2021-05-02T19:23:40.461293",
     "exception": false,
     "start_time": "2021-05-02T19:23:40.428749",
     "status": "completed"
    },
    "tags": []
   },
   "source": [
    "### Visaulize training results"
   ]
  },
  {
   "cell_type": "code",
   "execution_count": 13,
   "id": "moving-index",
   "metadata": {
    "execution": {
     "iopub.execute_input": "2021-05-02T19:23:40.533230Z",
     "iopub.status.busy": "2021-05-02T19:23:40.532688Z",
     "iopub.status.idle": "2021-05-02T19:23:40.536972Z",
     "shell.execute_reply": "2021-05-02T19:23:40.536267Z"
    },
    "papermill": {
     "duration": 0.042864,
     "end_time": "2021-05-02T19:23:40.537231",
     "exception": false,
     "start_time": "2021-05-02T19:23:40.494367",
     "status": "completed"
    },
    "tags": []
   },
   "outputs": [],
   "source": [
    "train_loss, val_loss = history['train']['loss'], history['val']['loss']\n",
    "train_acc, val_acc = history['train']['acc'], history['val']['acc']\n",
    "x_values = np.linspace(0,max_epochs, max_epochs)"
   ]
  },
  {
   "cell_type": "code",
   "execution_count": 14,
   "id": "chief-maintenance",
   "metadata": {
    "execution": {
     "iopub.execute_input": "2021-05-02T19:23:40.620974Z",
     "iopub.status.busy": "2021-05-02T19:23:40.620053Z",
     "iopub.status.idle": "2021-05-02T19:23:40.752163Z",
     "shell.execute_reply": "2021-05-02T19:23:40.752594Z"
    },
    "papermill": {
     "duration": 0.182945,
     "end_time": "2021-05-02T19:23:40.752785",
     "exception": false,
     "start_time": "2021-05-02T19:23:40.569840",
     "status": "completed"
    },
    "tags": []
   },
   "outputs": [
    {
     "data": {
      "image/png": "[encoded data removed]",
      "text/plain": [
       "<Figure size 432x288 with 1 Axes>"
      ]
     },
     "metadata": {
      "needs_background": "light"
     },
     "output_type": "display_data"
    }
   ],
   "source": [
    "plt.plot(x_values, train_loss)\n",
    "plt.plot(x_values, val_loss)\n",
    "plt.legend()\n",
    "plt.title('Loss')\n",
    "plt.show()"
   ]
  },
  {
   "cell_type": "code",
   "execution_count": 15,
   "id": "burning-agenda",
   "metadata": {
    "execution": {
     "iopub.execute_input": "2021-05-02T19:23:40.838743Z",
     "iopub.status.busy": "2021-05-02T19:23:40.837780Z",
     "iopub.status.idle": "2021-05-02T19:23:40.982026Z",
     "shell.execute_reply": "2021-05-02T19:23:40.982519Z"
    },
    "papermill": {
     "duration": 0.195342,
     "end_time": "2021-05-02T19:23:40.982672",
     "exception": false,
     "start_time": "2021-05-02T19:23:40.787330",
     "status": "completed"
    },
    "tags": []
   },
   "outputs": [
    {
     "data": {
      "image/png": "[encoded data removed]",
      "text/plain": [
       "<Figure size 432x288 with 1 Axes>"
      ]
     },
     "metadata": {
      "needs_background": "light"
     },
     "output_type": "display_data"
    }
   ],
   "source": [
    "plt.plot(x_values, train_acc)\n",
    "plt.plot(x_values, val_acc)\n",
    "plt.legend()\n",
    "plt.title('Accuracy')\n",
    "plt.show()"
   ]
  },
  {
   "cell_type": "markdown",
   "id": "armed-rental",
   "metadata": {
    "papermill": {
     "duration": 0.035,
     "end_time": "2021-05-02T19:23:41.052117",
     "exception": false,
     "start_time": "2021-05-02T19:23:41.017117",
     "status": "completed"
    },
    "tags": []
   },
   "source": [
    "### Display validation results"
   ]
  },
  {
   "cell_type": "code",
   "execution_count": 16,
   "id": "controlling-participant",
   "metadata": {
    "execution": {
     "iopub.execute_input": "2021-05-02T19:23:41.127677Z",
     "iopub.status.busy": "2021-05-02T19:23:41.126885Z",
     "iopub.status.idle": "2021-05-02T19:24:21.611305Z",
     "shell.execute_reply": "2021-05-02T19:24:21.610837Z"
    },
    "papermill": {
     "duration": 40.525024,
     "end_time": "2021-05-02T19:24:21.611460",
     "exception": false,
     "start_time": "2021-05-02T19:23:41.086436",
     "status": "completed"
    },
    "tags": []
   },
   "outputs": [],
   "source": [
    "y_pred = []\n",
    "trained_model = trained_model.to(device)\n",
    "for image in X_val:\n",
    "    image = image.reshape(28,28)\n",
    "    image = image/255.\n",
    "    transform = transforms.Compose([transforms.ToTensor()])\n",
    "    img = transform(image).unsqueeze(0)\n",
    "    img = img.to(device, dtype=torch.float)\n",
    "    pred = trained_model(img)\n",
    "    _, pred = torch.max(pred, 1)\n",
    "    y_pred.append(pred.item())"
   ]
  },
  {
   "cell_type": "markdown",
   "id": "victorian-detection",
   "metadata": {
    "papermill": {
     "duration": 0.035685,
     "end_time": "2021-05-02T19:24:21.683031",
     "exception": false,
     "start_time": "2021-05-02T19:24:21.647346",
     "status": "completed"
    },
    "tags": []
   },
   "source": [
    "### Accuracy matrics"
   ]
  },
  {
   "cell_type": "code",
   "execution_count": 17,
   "id": "south-shade",
   "metadata": {
    "execution": {
     "iopub.execute_input": "2021-05-02T19:24:21.759158Z",
     "iopub.status.busy": "2021-05-02T19:24:21.758432Z",
     "iopub.status.idle": "2021-05-02T19:24:21.781864Z",
     "shell.execute_reply": "2021-05-02T19:24:21.781410Z"
    },
    "papermill": {
     "duration": 0.063707,
     "end_time": "2021-05-02T19:24:21.781988",
     "exception": false,
     "start_time": "2021-05-02T19:24:21.718281",
     "status": "completed"
    },
    "tags": []
   },
   "outputs": [],
   "source": [
    "validation_accuracy = round(accuracy_score(y_val, y_pred), 3)\n",
    "actual_lbls = precision_recall_fscore_support(y_val, y_pred)[3]\n",
    "con_mat = confusion_matrix(y_val, y_pred)\n",
    "preds_lbls = con_mat.diagonal()"
   ]
  },
  {
   "cell_type": "code",
   "execution_count": 18,
   "id": "engaging-magnet",
   "metadata": {
    "execution": {
     "iopub.execute_input": "2021-05-02T19:24:21.859730Z",
     "iopub.status.busy": "2021-05-02T19:24:21.858656Z",
     "iopub.status.idle": "2021-05-02T19:24:21.863998Z",
     "shell.execute_reply": "2021-05-02T19:24:21.863329Z"
    },
    "papermill": {
     "duration": 0.046129,
     "end_time": "2021-05-02T19:24:21.864155",
     "exception": false,
     "start_time": "2021-05-02T19:24:21.818026",
     "status": "completed"
    },
    "tags": []
   },
   "outputs": [
    {
     "name": "stdout",
     "output_type": "stream",
     "text": [
      "Validation accuracy: 0.995\n",
      "Digitwise accuracy:\n",
      "0 accuracy:0.995 [406/408]\n",
      "1 accuracy:0.998 [470/471]\n",
      "2 accuracy:0.993 [417/420]\n",
      "3 accuracy:0.996 [504/506]\n",
      "4 accuracy:0.995 [395/397]\n",
      "5 accuracy:1.0 [339/339]\n",
      "6 accuracy:0.995 [400/402]\n",
      "7 accuracy:0.991 [434/438]\n",
      "8 accuracy:0.99 [399/403]\n",
      "9 accuracy:0.995 [414/416]\n"
     ]
    }
   ],
   "source": [
    "print('Validation accuracy:',validation_accuracy)\n",
    "print('Digitwise accuracy:')\n",
    "for i in range(0,Num_out_features):\n",
    "    act_i, pred_i = actual_lbls[i], preds_lbls[i]\n",
    "    accuracy_of_digit = round(pred_i/act_i, 3)\n",
    "    print('{} accuracy:{} [{}/{}]'.format(i, accuracy_of_digit, pred_i, act_i) )"
   ]
  },
  {
   "cell_type": "code",
   "execution_count": 19,
   "id": "successful-guess",
   "metadata": {
    "execution": {
     "iopub.execute_input": "2021-05-02T19:24:21.981929Z",
     "iopub.status.busy": "2021-05-02T19:24:21.980990Z",
     "iopub.status.idle": "2021-05-02T19:24:22.976605Z",
     "shell.execute_reply": "2021-05-02T19:24:22.977336Z"
    },
    "papermill": {
     "duration": 1.062211,
     "end_time": "2021-05-02T19:24:22.977599",
     "exception": false,
     "start_time": "2021-05-02T19:24:21.915388",
     "status": "completed"
    },
    "tags": []
   },
   "outputs": [
    {
     "data": {
      "text/plain": [
       "<sklearn.metrics._plot.confusion_matrix.ConfusionMatrixDisplay at 0x7fc977ea7fd0>"
      ]
     },
     "execution_count": 19,
     "metadata": {},
     "output_type": "execute_result"
    },
    {
     "data": {
      "image/png": "[encoded data removed]",
      "text/plain": [
       "<Figure size 864x864 with 2 Axes>"
      ]
     },
     "metadata": {
      "needs_background": "light"
     },
     "output_type": "display_data"
    }
   ],
   "source": [
    "disp = ConfusionMatrixDisplay(confusion_matrix=con_mat)\n",
    "fig, ax = plt.subplots(figsize=(12,12))\n",
    "disp.plot(ax = ax) "
   ]
  },
  {
   "cell_type": "markdown",
   "id": "enabling-telescope",
   "metadata": {
    "papermill": {
     "duration": 0.070319,
     "end_time": "2021-05-02T19:24:23.124607",
     "exception": false,
     "start_time": "2021-05-02T19:24:23.054288",
     "status": "completed"
    },
    "tags": []
   },
   "source": [
    "### Model testing"
   ]
  },
  {
   "cell_type": "code",
   "execution_count": 20,
   "id": "weekly-matter",
   "metadata": {
    "execution": {
     "iopub.execute_input": "2021-05-02T19:24:23.210799Z",
     "iopub.status.busy": "2021-05-02T19:24:23.209858Z",
     "iopub.status.idle": "2021-05-02T19:28:53.304000Z",
     "shell.execute_reply": "2021-05-02T19:28:53.303287Z"
    },
    "papermill": {
     "duration": 270.13788,
     "end_time": "2021-05-02T19:28:53.304158",
     "exception": false,
     "start_time": "2021-05-02T19:24:23.166278",
     "status": "completed"
    },
    "tags": []
   },
   "outputs": [],
   "source": [
    "y_test = []\n",
    "for image in X_test:\n",
    "    image = image.reshape(28,28)\n",
    "    image = image/255.\n",
    "    transform = transforms.Compose([transforms.ToTensor()])\n",
    "    img = transform(image).unsqueeze(0)\n",
    "    img = img.to(device, dtype=torch.float)\n",
    "    pred = trained_model(img)\n",
    "    _, pred = torch.max(pred, 1)\n",
    "    y_test.append(pred.item()) "
   ]
  },
  {
   "cell_type": "markdown",
   "id": "designed-terrorist",
   "metadata": {
    "papermill": {
     "duration": 0.039888,
     "end_time": "2021-05-02T19:28:53.381660",
     "exception": false,
     "start_time": "2021-05-02T19:28:53.341772",
     "status": "completed"
    },
    "tags": []
   },
   "source": [
    "### Visualize test results"
   ]
  },
  {
   "cell_type": "code",
   "execution_count": 21,
   "id": "unexpected-pastor",
   "metadata": {
    "execution": {
     "iopub.execute_input": "2021-05-02T19:28:53.485505Z",
     "iopub.status.busy": "2021-05-02T19:28:53.480659Z",
     "iopub.status.idle": "2021-05-02T19:28:56.296746Z",
     "shell.execute_reply": "2021-05-02T19:28:56.297250Z"
    },
    "papermill": {
     "duration": 2.878148,
     "end_time": "2021-05-02T19:28:56.297426",
     "exception": false,
     "start_time": "2021-05-02T19:28:53.419278",
     "status": "completed"
    },
    "tags": []
   },
   "outputs": [
    {
     "data": {
      "image/png": "[encoded data removed]",
      "text/plain": [
       "<Figure size 1080x1080 with 64 Axes>"
      ]
     },
     "metadata": {
      "needs_background": "light"
     },
     "output_type": "display_data"
    }
   ],
   "source": [
    "figure = plt.figure(figsize=(15,15))\n",
    "cols, rows = 8,8\n",
    "for i in range(1, cols * rows + 1):\n",
    "    img = X_test[i]\n",
    "    lbl = y_test[i]\n",
    "    figure.add_subplot(rows, cols, i)\n",
    "    plt.title(str(lbl))\n",
    "    plt.axis(\"off\")\n",
    "    plt.imshow(img.reshape(28,28), 'gray')\n",
    "plt.show()"
   ]
  },
  {
   "cell_type": "markdown",
   "id": "numerical-acrylic",
   "metadata": {
    "papermill": {
     "duration": 0.052035,
     "end_time": "2021-05-02T19:28:56.391532",
     "exception": false,
     "start_time": "2021-05-02T19:28:56.339497",
     "status": "completed"
    },
    "tags": []
   },
   "source": [
    "### Save test results"
   ]
  },
  {
   "cell_type": "code",
   "execution_count": 22,
   "id": "metric-sense",
   "metadata": {
    "execution": {
     "iopub.execute_input": "2021-05-02T19:28:56.502990Z",
     "iopub.status.busy": "2021-05-02T19:28:56.502379Z",
     "iopub.status.idle": "2021-05-02T19:28:56.680244Z",
     "shell.execute_reply": "2021-05-02T19:28:56.679686Z"
    },
    "papermill": {
     "duration": 0.247425,
     "end_time": "2021-05-02T19:28:56.680374",
     "exception": false,
     "start_time": "2021-05-02T19:28:56.432949",
     "status": "completed"
    },
    "tags": []
   },
   "outputs": [],
   "source": [
    "test = dict()\n",
    "test['ImageId'] = [i for i in range(1,len(y_test)+1)]\n",
    "test['Label'] =  y_test   \n",
    "df = pd.DataFrame(test)\n",
    "df.to_csv('results_new.csv', index=False)"
   ]
  },
  {
   "cell_type": "code",
   "execution_count": null,
   "id": "featured-reflection",
   "metadata": {
    "papermill": {
     "duration": 0.042239,
     "end_time": "2021-05-02T19:28:56.764914",
     "exception": false,
     "start_time": "2021-05-02T19:28:56.722675",
     "status": "completed"
    },
    "tags": []
   },
   "outputs": [],
   "source": []
  },
  {
   "cell_type": "code",
   "execution_count": null,
   "id": "standard-correspondence",
   "metadata": {
    "papermill": {
     "duration": 0.040446,
     "end_time": "2021-05-02T19:28:56.847950",
     "exception": false,
     "start_time": "2021-05-02T19:28:56.807504",
     "status": "completed"
    },
    "tags": []
   },
   "outputs": [],
   "source": []
  }
 ],
 "metadata": {
  "kernelspec": {
   "display_name": "Python 3",
   "language": "python",
   "name": "python3"
  },
  "language_info": {
   "codemirror_mode": {
    "name": "ipython",
    "version": 3
   },
   "file_extension": ".py",
   "mimetype": "text/x-python",
   "name": "python",
   "nbconvert_exporter": "python",
   "pygments_lexer": "ipython3",
   "version": "3.7.10"
  },
  "papermill": {
   "default_parameters": {},
   "duration": 1730.180282,
   "end_time": "2021-05-02T19:28:59.620658",
   "environment_variables": {},
   "exception": null,
   "input_path": "__notebook__.ipynb",
   "output_path": "__notebook__.ipynb",
   "parameters": {},
   "start_time": "2021-05-02T19:00:09.440376",
   "version": "2.3.3"
  },
  "widgets": {
   "application/vnd.jupyter.widget-state+json": {
    "state": {
     "0f3d82c2a1da4c2bb3ba8762c545f81b": {
      "model_module": "@jupyter-widgets/controls",
      "model_module_version": "1.5.0",
      "model_name": "DescriptionStyleModel",
      "state": {
       "_model_module": "@jupyter-widgets/controls",
       "_model_module_version": "1.5.0",
       "_model_name": "DescriptionStyleModel",
       "_view_count": null,
       "_view_module": "@jupyter-widgets/base",
       "_view_module_version": "1.2.0",
       "_view_name": "StyleView",
       "description_width": ""
      }
     },
     "27fc0b8cccc24544a4eaaf28878eca60": {
      "model_module": "@jupyter-widgets/controls",
      "model_module_version": "1.5.0",
      "model_name": "ProgressStyleModel",
      "state": {
       "_model_module": "@jupyter-widgets/controls",
       "_model_module_version": "1.5.0",
       "_model_name": "ProgressStyleModel",
       "_view_count": null,
       "_view_module": "@jupyter-widgets/base",
       "_view_module_version": "1.2.0",
       "_view_name": "StyleView",
       "bar_color": null,
       "description_width": ""
      }
     },
     "4ce77c36d17940d1a16bc87b0e6c399c": {
      "model_module": "@jupyter-widgets/controls",
      "model_module_version": "1.5.0",
      "model_name": "HTMLModel",
      "state": {
       "_dom_classes": [],
       "_model_module": "@jupyter-widgets/controls",
       "_model_module_version": "1.5.0",
       "_model_name": "HTMLModel",
       "_view_count": null,
       "_view_module": "@jupyter-widgets/controls",
       "_view_module_version": "1.5.0",
       "_view_name": "HTMLView",
       "description": "",
       "description_tooltip": null,
       "layout": "IPY_MODEL_c5c64606d6fb401aaa2c96f4856dee3d",
       "placeholder": "​",
       "style": "IPY_MODEL_0f3d82c2a1da4c2bb3ba8762c545f81b",
       "value": " 44.7M/44.7M [00:01&lt;00:00, 49.0MB/s]"
      }
     },
     "4e8ae01d86fe4e2e9808cc098ac45d07": {
      "model_module": "@jupyter-widgets/controls",
      "model_module_version": "1.5.0",
      "model_name": "HBoxModel",
      "state": {
       "_dom_classes": [],
       "_model_module": "@jupyter-widgets/controls",
       "_model_module_version": "1.5.0",
       "_model_name": "HBoxModel",
       "_view_count": null,
       "_view_module": "@jupyter-widgets/controls",
       "_view_module_version": "1.5.0",
       "_view_name": "HBoxView",
       "box_style": "",
       "children": [
        "IPY_MODEL_993778e9fb5a468d8d4acc71d3bd1be3",
        "IPY_MODEL_7285c8b6848e444aa8048834103a9942",
        "IPY_MODEL_4ce77c36d17940d1a16bc87b0e6c399c"
       ],
       "layout": "IPY_MODEL_5b093a42d1de4306bb383849abd35687"
      }
     },
     "5b093a42d1de4306bb383849abd35687": {
      "model_module": "@jupyter-widgets/base",
      "model_module_version": "1.2.0",
      "model_name": "LayoutModel",
      "state": {
       "_model_module": "@jupyter-widgets/base",
       "_model_module_version": "1.2.0",
       "_model_name": "LayoutModel",
       "_view_count": null,
       "_view_module": "@jupyter-widgets/base",
       "_view_module_version": "1.2.0",
       "_view_name": "LayoutView",
       "align_content": null,
       "align_items": null,
       "align_self": null,
       "border": null,
       "bottom": null,
       "display": null,
       "flex": null,
       "flex_flow": null,
       "grid_area": null,
       "grid_auto_columns": null,
       "grid_auto_flow": null,
       "grid_auto_rows": null,
       "grid_column": null,
       "grid_gap": null,
       "grid_row": null,
       "grid_template_areas": null,
       "grid_template_columns": null,
       "grid_template_rows": null,
       "height": null,
       "justify_content": null,
       "justify_items": null,
       "left": null,
       "margin": null,
       "max_height": null,
       "max_width": null,
       "min_height": null,
       "min_width": null,
       "object_fit": null,
       "object_position": null,
       "order": null,
       "overflow": null,
       "overflow_x": null,
       "overflow_y": null,
       "padding": null,
       "right": null,
       "top": null,
       "visibility": null,
       "width": null
      }
     },
     "7285c8b6848e444aa8048834103a9942": {
      "model_module": "@jupyter-widgets/controls",
      "model_module_version": "1.5.0",
      "model_name": "FloatProgressModel",
      "state": {
       "_dom_classes": [],
       "_model_module": "@jupyter-widgets/controls",
       "_model_module_version": "1.5.0",
       "_model_name": "FloatProgressModel",
       "_view_count": null,
       "_view_module": "@jupyter-widgets/controls",
       "_view_module_version": "1.5.0",
       "_view_name": "ProgressView",
       "bar_style": "success",
       "description": "",
       "description_tooltip": null,
       "layout": "IPY_MODEL_afc0caffcaca42e39c71ded233498e32",
       "max": 46827520.0,
       "min": 0.0,
       "orientation": "horizontal",
       "style": "IPY_MODEL_27fc0b8cccc24544a4eaaf28878eca60",
       "value": 46827520.0
      }
     },
     "83f6134c07d04934935a2a7a2fd7f9b6": {
      "model_module": "@jupyter-widgets/controls",
      "model_module_version": "1.5.0",
      "model_name": "DescriptionStyleModel",
      "state": {
       "_model_module": "@jupyter-widgets/controls",
       "_model_module_version": "1.5.0",
       "_model_name": "DescriptionStyleModel",
       "_view_count": null,
       "_view_module": "@jupyter-widgets/base",
       "_view_module_version": "1.2.0",
       "_view_name": "StyleView",
       "description_width": ""
      }
     },
     "993778e9fb5a468d8d4acc71d3bd1be3": {
      "model_module": "@jupyter-widgets/controls",
      "model_module_version": "1.5.0",
      "model_name": "HTMLModel",
      "state": {
       "_dom_classes": [],
       "_model_module": "@jupyter-widgets/controls",
       "_model_module_version": "1.5.0",
       "_model_name": "HTMLModel",
       "_view_count": null,
       "_view_module": "@jupyter-widgets/controls",
       "_view_module_version": "1.5.0",
       "_view_name": "HTMLView",
       "description": "",
       "description_tooltip": null,
       "layout": "IPY_MODEL_dea2486f81244b8d9b6f69fefea7bbc2",
       "placeholder": "​",
       "style": "IPY_MODEL_83f6134c07d04934935a2a7a2fd7f9b6",
       "value": "100%"
      }
     },
     "afc0caffcaca42e39c71ded233498e32": {
      "model_module": "@jupyter-widgets/base",
      "model_module_version": "1.2.0",
      "model_name": "LayoutModel",
      "state": {
       "_model_module": "@jupyter-widgets/base",
       "_model_module_version": "1.2.0",
       "_model_name": "LayoutModel",
       "_view_count": null,
       "_view_module": "@jupyter-widgets/base",
       "_view_module_version": "1.2.0",
       "_view_name": "LayoutView",
       "align_content": null,
       "align_items": null,
       "align_self": null,
       "border": null,
       "bottom": null,
       "display": null,
       "flex": null,
       "flex_flow": null,
       "grid_area": null,
       "grid_auto_columns": null,
       "grid_auto_flow": null,
       "grid_auto_rows": null,
       "grid_column": null,
       "grid_gap": null,
       "grid_row": null,
       "grid_template_areas": null,
       "grid_template_columns": null,
       "grid_template_rows": null,
       "height": null,
       "justify_content": null,
       "justify_items": null,
       "left": null,
       "margin": null,
       "max_height": null,
       "max_width": null,
       "min_height": null,
       "min_width": null,
       "object_fit": null,
       "object_position": null,
       "order": null,
       "overflow": null,
       "overflow_x": null,
       "overflow_y": null,
       "padding": null,
       "right": null,
       "top": null,
       "visibility": null,
       "width": null
      }
     },
     "c5c64606d6fb401aaa2c96f4856dee3d": {
      "model_module": "@jupyter-widgets/base",
      "model_module_version": "1.2.0",
      "model_name": "LayoutModel",
      "state": {
       "_model_module": "@jupyter-widgets/base",
       "_model_module_version": "1.2.0",
       "_model_name": "LayoutModel",
       "_view_count": null,
       "_view_module": "@jupyter-widgets/base",
       "_view_module_version": "1.2.0",
       "_view_name": "LayoutView",
       "align_content": null,
       "align_items": null,
       "align_self": null,
       "border": null,
       "bottom": null,
       "display": null,
       "flex": null,
       "flex_flow": null,
       "grid_area": null,
       "grid_auto_columns": null,
       "grid_auto_flow": null,
       "grid_auto_rows": null,
       "grid_column": null,
       "grid_gap": null,
       "grid_row": null,
       "grid_template_areas": null,
       "grid_template_columns": null,
       "grid_template_rows": null,
       "height": null,
       "justify_content": null,
       "justify_items": null,
       "left": null,
       "margin": null,
       "max_height": null,
       "max_width": null,
       "min_height": null,
       "min_width": null,
       "object_fit": null,
       "object_position": null,
       "order": null,
       "overflow": null,
       "overflow_x": null,
       "overflow_y": null,
       "padding": null,
       "right": null,
       "top": null,
       "visibility": null,
       "width": null
      }
     },
     "dea2486f81244b8d9b6f69fefea7bbc2": {
      "model_module": "@jupyter-widgets/base",
      "model_module_version": "1.2.0",
      "model_name": "LayoutModel",
      "state": {
       "_model_module": "@jupyter-widgets/base",
       "_model_module_version": "1.2.0",
       "_model_name": "LayoutModel",
       "_view_count": null,
       "_view_module": "@jupyter-widgets/base",
       "_view_module_version": "1.2.0",
       "_view_name": "LayoutView",
       "align_content": null,
       "align_items": null,
       "align_self": null,
       "border": null,
       "bottom": null,
       "display": null,
       "flex": null,
       "flex_flow": null,
       "grid_area": null,
       "grid_auto_columns": null,
       "grid_auto_flow": null,
       "grid_auto_rows": null,
       "grid_column": null,
       "grid_gap": null,
       "grid_row": null,
       "grid_template_areas": null,
       "grid_template_columns": null,
       "grid_template_rows": null,
       "height": null,
       "justify_content": null,
       "justify_items": null,
       "left": null,
       "margin": null,
       "max_height": null,
       "max_width": null,
       "min_height": null,
       "min_width": null,
       "object_fit": null,
       "object_position": null,
       "order": null,
       "overflow": null,
       "overflow_x": null,
       "overflow_y": null,
       "padding": null,
       "right": null,
       "top": null,
       "visibility": null,
       "width": null
      }
     }
    },
    "version_major": 2,
    "version_minor": 0
   }
  }
 },
 "nbformat": 4,
 "nbformat_minor": 5
}
